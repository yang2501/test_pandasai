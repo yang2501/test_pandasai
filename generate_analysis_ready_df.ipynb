{
 "cells": [
  {
   "cell_type": "markdown",
   "metadata": {},
   "source": [
    "Create part of the standardized dataframe from the PSG data"
   ]
  },
  {
   "cell_type": "code",
   "execution_count": 1,
   "metadata": {},
   "outputs": [],
   "source": [
    "import pandas as pd\n",
    "import re\n",
    "\n",
    "# From i8f_mc_gpif_psg.csv derived the COHORT from subject2treatment mapping with the adsl.csv demographic data. \n",
    "# Check the watchpat_analysis_dbi_sample_ipynb for details on how ./psg_standardized_df.csv was created\n",
    "\n",
    "df = pd.read_csv(\"./data/psg_standardized_df.csv\") \n",
    "df.drop(columns=['Unnamed: 0', 'NPSGDT', 'NPSGEDT', 'NPSGTM', 'NPSGETM'], inplace=True) # drop all columns that isn't used for analysis\n",
    "\n",
    "# Function to extract visit number\n",
    "def get_visit_number(visit):\n",
    "    match = re.match(r'^Visit(\\d+)$', visit, re.IGNORECASE)\n",
    "    if match:\n",
    "        return int(match.group(1))\n",
    "    elif visit == 'Screening':\n",
    "        return 0\n",
    "    else:\n",
    "        return None\n",
    "\n",
    "# Function to determine the severity label for AHI values\n",
    "def ahi2SeverityLabel(x):\n",
    "    \"\"\"\n",
    "    Converts an AHI value to a severity label.\n",
    "\n",
    "    Parameters\n",
    "    ----------\n",
    "    x : float\n",
    "        The AHI value.\n",
    "\n",
    "    Returns\n",
    "    ----------\n",
    "    str\n",
    "        The severity label corresponding to the AHI value.\n",
    "    \"\"\"\n",
    "    if x < 5:\n",
    "        return 'No'\n",
    "    elif x < 15:\n",
    "        return 'Mild'\n",
    "    elif x < 30:\n",
    "        return 'Moderate'\n",
    "    else:\n",
    "        return 'Severe'\n",
    "\n",
    "# List of digital endpoints (excluding non-numeric and already accounted columns)\n",
    "digital_endpoints = ['TIB', 'SOL', 'REML', 'TST', 'LPS', 'WASO', 'SE', 'STN1', 'STN1P', 'STN2', 'STN2P', 'SWS', 'SWSP', 'REM', 'REMP', 'AHI', 'CMP_AH4', 'TST_SpO290', 'TST_SpO285', 'TST_SpO280', 'SpO2_ODI3', 'SpO2_ODI4']\n",
    "\n",
    "# New DataFrame to store the transformed data\n",
    "new_data = []\n",
    "\n",
    "# Iterate through the digital endpoints and transform the data\n",
    "for endpoint in digital_endpoints:\n",
    "    for idx, row in df.iterrows():\n",
    "        # Determine severity category based on endpoint\n",
    "        if endpoint == 'AHI':\n",
    "            severity_category = ahi2SeverityLabel(row[endpoint])\n",
    "        else:\n",
    "            severity_category = pd.NA\n",
    "\n",
    "        new_row = {\n",
    "            'VISIT': row['VISIT'],\n",
    "            'USUBJID': row['USUBJID'],\n",
    "            'digital_EP': endpoint,\n",
    "            'digital_EP_value': row[endpoint],\n",
    "            'digital_EP_severity_category': severity_category,\n",
    "            'COHORT': row['COHORT'],\n",
    "            'DEVICE': row['DEVICE']\n",
    "        }\n",
    "        new_data.append(new_row)\n",
    "\n",
    "new_df = pd.DataFrame(new_data)"
   ]
  },
  {
   "cell_type": "markdown",
   "metadata": {},
   "source": [
    "Create part of the standardized dataframe from the WatchPAT data"
   ]
  },
  {
   "cell_type": "code",
   "execution_count": 2,
   "metadata": {},
   "outputs": [],
   "source": [
    "df1 = pd.read_csv(\"./data/watchPAT_standardized_df.csv\")\n",
    "df1 = df1[['VISIT', 'USUBJID', 'pAHI', 'COHORT', 'DEVICE']]\n",
    "df1.rename(columns={'pAHI': 'AHI'}, inplace=True)\n",
    "digital_endpoints = ['AHI']\n",
    "\n",
    "#digital_endpoints = ['pAHI']\n",
    "for endpoint in digital_endpoints:\n",
    "    for idx, row in df1.iterrows():\n",
    "        # Determine severity category based on endpoint\n",
    "        if endpoint == 'AHI':\n",
    "            severity_category = ahi2SeverityLabel(row[endpoint])\n",
    "        else:\n",
    "            severity_category = pd.NA\n",
    "\n",
    "        new_row = {\n",
    "            'VISIT': row['VISIT'],\n",
    "            'USUBJID': row['USUBJID'],\n",
    "            'digital_EP': endpoint,\n",
    "            'digital_EP_value': row[endpoint],\n",
    "            'digital_EP_severity_category': severity_category,\n",
    "            'COHORT': row['COHORT'],\n",
    "            'DEVICE': row['DEVICE']\n",
    "        }\n",
    "        new_data.append(new_row)\n",
    "\n",
    "new_df1 = pd.DataFrame(new_data)\n",
    "new_df1['VISIT'] = new_df1['VISIT'].replace('SCREENING', 'Screening')\n",
    "new_df1['VISIT'] = new_df1['VISIT'].replace('VISIT7', 'Visit7')\n",
    "new_df1['VISIT'] = new_df1['VISIT'].replace('VISIT11', 'Visit11')"
   ]
  },
  {
   "cell_type": "markdown",
   "metadata": {},
   "source": [
    "Merge the two dataframes to get the full standardized analysis ready dataframe"
   ]
  },
  {
   "cell_type": "code",
   "execution_count": 3,
   "metadata": {},
   "outputs": [],
   "source": [
    "df_merged = pd.concat([new_df, new_df1], ignore_index=True)\n",
    "df = df_merged\n",
    "df.to_csv(\"./data/standardized_analysis_ready_df.csv\")"
   ]
  }
 ],
 "metadata": {
  "kernelspec": {
   "display_name": "test_pandasai_skills_env",
   "language": "python",
   "name": "python3"
  },
  "language_info": {
   "codemirror_mode": {
    "name": "ipython",
    "version": 3
   },
   "file_extension": ".py",
   "mimetype": "text/x-python",
   "name": "python",
   "nbconvert_exporter": "python",
   "pygments_lexer": "ipython3",
   "version": "3.11.7"
  }
 },
 "nbformat": 4,
 "nbformat_minor": 2
}
